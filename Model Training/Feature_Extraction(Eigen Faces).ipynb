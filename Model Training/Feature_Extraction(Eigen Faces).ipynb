{
 "cells": [
  {
   "cell_type": "code",
   "execution_count": 1,
   "id": "d75f4bd2",
   "metadata": {},
   "outputs": [],
   "source": [
    "import numpy as np\n",
    "import pandas as pd\n",
    "import matplotlib.pyplot as plt\n",
    "\n",
    "import cv2\n",
    "from sklearn.decomposition import PCA\n",
    "import pickle"
   ]
  },
  {
   "cell_type": "code",
   "execution_count": 2,
   "id": "4ab0001c",
   "metadata": {},
   "outputs": [
    {
     "data": {
      "text/html": [
       "<div>\n",
       "<style scoped>\n",
       "    .dataframe tbody tr th:only-of-type {\n",
       "        vertical-align: middle;\n",
       "    }\n",
       "\n",
       "    .dataframe tbody tr th {\n",
       "        vertical-align: top;\n",
       "    }\n",
       "\n",
       "    .dataframe thead th {\n",
       "        text-align: right;\n",
       "    }\n",
       "</style>\n",
       "<table border=\"1\" class=\"dataframe\">\n",
       "  <thead>\n",
       "    <tr style=\"text-align: right;\">\n",
       "      <th></th>\n",
       "      <th>pixel_0</th>\n",
       "      <th>pixel_1</th>\n",
       "      <th>pixel_2</th>\n",
       "      <th>pixel_3</th>\n",
       "      <th>pixel_4</th>\n",
       "      <th>pixel_5</th>\n",
       "      <th>pixel_6</th>\n",
       "      <th>pixel_7</th>\n",
       "      <th>pixel_8</th>\n",
       "      <th>pixel_9</th>\n",
       "      <th>...</th>\n",
       "      <th>pixel_9991</th>\n",
       "      <th>pixel_9992</th>\n",
       "      <th>pixel_9993</th>\n",
       "      <th>pixel_9994</th>\n",
       "      <th>pixel_9995</th>\n",
       "      <th>pixel_9996</th>\n",
       "      <th>pixel_9997</th>\n",
       "      <th>pixel_9998</th>\n",
       "      <th>pixel_9999</th>\n",
       "      <th>gender</th>\n",
       "    </tr>\n",
       "  </thead>\n",
       "  <tbody>\n",
       "    <tr>\n",
       "      <th>0</th>\n",
       "      <td>0.002891</td>\n",
       "      <td>0.002799</td>\n",
       "      <td>0.002799</td>\n",
       "      <td>0.002845</td>\n",
       "      <td>0.002676</td>\n",
       "      <td>0.002784</td>\n",
       "      <td>0.002953</td>\n",
       "      <td>0.002768</td>\n",
       "      <td>0.003337</td>\n",
       "      <td>0.003353</td>\n",
       "      <td>...</td>\n",
       "      <td>0.001707</td>\n",
       "      <td>0.001769</td>\n",
       "      <td>0.001784</td>\n",
       "      <td>0.001876</td>\n",
       "      <td>0.001784</td>\n",
       "      <td>0.001845</td>\n",
       "      <td>0.001830</td>\n",
       "      <td>0.001799</td>\n",
       "      <td>0.001692</td>\n",
       "      <td>female</td>\n",
       "    </tr>\n",
       "    <tr>\n",
       "      <th>1</th>\n",
       "      <td>0.000492</td>\n",
       "      <td>0.000354</td>\n",
       "      <td>0.000477</td>\n",
       "      <td>0.000415</td>\n",
       "      <td>0.000431</td>\n",
       "      <td>0.000461</td>\n",
       "      <td>0.000431</td>\n",
       "      <td>0.000507</td>\n",
       "      <td>0.000554</td>\n",
       "      <td>0.000461</td>\n",
       "      <td>...</td>\n",
       "      <td>0.000723</td>\n",
       "      <td>0.000415</td>\n",
       "      <td>0.000523</td>\n",
       "      <td>0.000338</td>\n",
       "      <td>0.000415</td>\n",
       "      <td>0.000354</td>\n",
       "      <td>0.000569</td>\n",
       "      <td>0.000969</td>\n",
       "      <td>0.000277</td>\n",
       "      <td>female</td>\n",
       "    </tr>\n",
       "    <tr>\n",
       "      <th>2</th>\n",
       "      <td>0.000754</td>\n",
       "      <td>0.000754</td>\n",
       "      <td>0.000538</td>\n",
       "      <td>0.000523</td>\n",
       "      <td>0.000646</td>\n",
       "      <td>0.000615</td>\n",
       "      <td>0.000538</td>\n",
       "      <td>0.000600</td>\n",
       "      <td>0.001092</td>\n",
       "      <td>0.000953</td>\n",
       "      <td>...</td>\n",
       "      <td>0.003537</td>\n",
       "      <td>0.003552</td>\n",
       "      <td>0.003645</td>\n",
       "      <td>0.003660</td>\n",
       "      <td>0.003537</td>\n",
       "      <td>0.003383</td>\n",
       "      <td>0.003260</td>\n",
       "      <td>0.003230</td>\n",
       "      <td>0.003199</td>\n",
       "      <td>female</td>\n",
       "    </tr>\n",
       "    <tr>\n",
       "      <th>3</th>\n",
       "      <td>0.002030</td>\n",
       "      <td>0.001861</td>\n",
       "      <td>0.001815</td>\n",
       "      <td>0.001492</td>\n",
       "      <td>0.001307</td>\n",
       "      <td>0.001415</td>\n",
       "      <td>0.001399</td>\n",
       "      <td>0.001692</td>\n",
       "      <td>0.002384</td>\n",
       "      <td>0.002491</td>\n",
       "      <td>...</td>\n",
       "      <td>0.001707</td>\n",
       "      <td>0.000953</td>\n",
       "      <td>0.000953</td>\n",
       "      <td>0.001015</td>\n",
       "      <td>0.001246</td>\n",
       "      <td>0.001384</td>\n",
       "      <td>0.001538</td>\n",
       "      <td>0.001661</td>\n",
       "      <td>0.001738</td>\n",
       "      <td>female</td>\n",
       "    </tr>\n",
       "    <tr>\n",
       "      <th>4</th>\n",
       "      <td>0.003599</td>\n",
       "      <td>0.003599</td>\n",
       "      <td>0.003599</td>\n",
       "      <td>0.003506</td>\n",
       "      <td>0.003552</td>\n",
       "      <td>0.003153</td>\n",
       "      <td>0.001876</td>\n",
       "      <td>0.001507</td>\n",
       "      <td>0.001138</td>\n",
       "      <td>0.000830</td>\n",
       "      <td>...</td>\n",
       "      <td>0.003737</td>\n",
       "      <td>0.003645</td>\n",
       "      <td>0.003645</td>\n",
       "      <td>0.003676</td>\n",
       "      <td>0.003645</td>\n",
       "      <td>0.003629</td>\n",
       "      <td>0.003706</td>\n",
       "      <td>0.003660</td>\n",
       "      <td>0.003691</td>\n",
       "      <td>female</td>\n",
       "    </tr>\n",
       "  </tbody>\n",
       "</table>\n",
       "<p>5 rows × 10001 columns</p>\n",
       "</div>"
      ],
      "text/plain": [
       "    pixel_0   pixel_1   pixel_2   pixel_3   pixel_4   pixel_5   pixel_6   \n",
       "0  0.002891  0.002799  0.002799  0.002845  0.002676  0.002784  0.002953  \\\n",
       "1  0.000492  0.000354  0.000477  0.000415  0.000431  0.000461  0.000431   \n",
       "2  0.000754  0.000754  0.000538  0.000523  0.000646  0.000615  0.000538   \n",
       "3  0.002030  0.001861  0.001815  0.001492  0.001307  0.001415  0.001399   \n",
       "4  0.003599  0.003599  0.003599  0.003506  0.003552  0.003153  0.001876   \n",
       "\n",
       "    pixel_7   pixel_8   pixel_9  ...  pixel_9991  pixel_9992  pixel_9993   \n",
       "0  0.002768  0.003337  0.003353  ...    0.001707    0.001769    0.001784  \\\n",
       "1  0.000507  0.000554  0.000461  ...    0.000723    0.000415    0.000523   \n",
       "2  0.000600  0.001092  0.000953  ...    0.003537    0.003552    0.003645   \n",
       "3  0.001692  0.002384  0.002491  ...    0.001707    0.000953    0.000953   \n",
       "4  0.001507  0.001138  0.000830  ...    0.003737    0.003645    0.003645   \n",
       "\n",
       "   pixel_9994  pixel_9995  pixel_9996  pixel_9997  pixel_9998  pixel_9999   \n",
       "0    0.001876    0.001784    0.001845    0.001830    0.001799    0.001692  \\\n",
       "1    0.000338    0.000415    0.000354    0.000569    0.000969    0.000277   \n",
       "2    0.003660    0.003537    0.003383    0.003260    0.003230    0.003199   \n",
       "3    0.001015    0.001246    0.001384    0.001538    0.001661    0.001738   \n",
       "4    0.003676    0.003645    0.003629    0.003706    0.003660    0.003691   \n",
       "\n",
       "   gender  \n",
       "0  female  \n",
       "1  female  \n",
       "2  female  \n",
       "3  female  \n",
       "4  female  \n",
       "\n",
       "[5 rows x 10001 columns]"
      ]
     },
     "execution_count": 2,
     "metadata": {},
     "output_type": "execute_result"
    }
   ],
   "source": [
    "df = pickle.load(open('./data/data_images_100_100.pickle',mode='rb'))\n",
    "df.head()"
   ]
  },
  {
   "cell_type": "code",
   "execution_count": 3,
   "id": "117e8d60",
   "metadata": {},
   "outputs": [
    {
     "data": {
      "text/plain": [
       "array([[0.0028912 , 0.00279892, 0.00279892, ..., 0.00183007, 0.00179931,\n",
       "        0.00169166],\n",
       "       [0.00049212, 0.00035371, 0.00047674, ..., 0.00056901, 0.00096886,\n",
       "        0.00027682],\n",
       "       [0.00075356, 0.00075356, 0.00053825, ..., 0.00326028, 0.00322953,\n",
       "        0.00319877],\n",
       "       ...,\n",
       "       [0.00275279, 0.00276817, 0.00276817, ..., 0.00262976, 0.00270665,\n",
       "        0.00286044],\n",
       "       [0.00058439, 0.00056901, 0.00056901, ..., 0.0009381 , 0.00099962,\n",
       "        0.00104575],\n",
       "       [0.00279892, 0.0028143 , 0.00282968, ..., 0.00292195, 0.00292195,\n",
       "        0.00292195]])"
      ]
     },
     "execution_count": 3,
     "metadata": {},
     "output_type": "execute_result"
    }
   ],
   "source": [
    "X = df.drop(['gender'],axis=1).values\n",
    "X"
   ]
  },
  {
   "cell_type": "code",
   "execution_count": 6,
   "id": "8c7536e1",
   "metadata": {},
   "outputs": [
    {
     "data": {
      "text/plain": [
       "(10000,)"
      ]
     },
     "execution_count": 6,
     "metadata": {},
     "output_type": "execute_result"
    }
   ],
   "source": [
    "mean_face = X.mean(axis=0)\n",
    "mean_face.shape"
   ]
  },
  {
   "cell_type": "code",
   "execution_count": 8,
   "id": "6663e38b",
   "metadata": {},
   "outputs": [
    {
     "data": {
      "image/png": "[encoded data removed]",
      "text/plain": [
       "<Figure size 640x480 with 1 Axes>"
      ]
     },
     "metadata": {},
     "output_type": "display_data"
    }
   ],
   "source": [
    "plt.imshow(mean_face.reshape(100,100),cmap='gray')\n",
    "plt.axis('off')\n",
    "plt.show()"
   ]
  },
  {
   "cell_type": "code",
   "execution_count": 9,
   "id": "fa1e9544",
   "metadata": {},
   "outputs": [],
   "source": [
    "X_t = X - mean_face"
   ]
  },
  {
   "cell_type": "code",
   "execution_count": 10,
   "id": "1ab858c0",
   "metadata": {},
   "outputs": [],
   "source": [
    "## Applying PCA to X_t"
   ]
  },
  {
   "cell_type": "code",
   "execution_count": 11,
   "id": "604b0b94",
   "metadata": {},
   "outputs": [
    {
     "data": {
      "text/html": [
       "<style>#sk-container-id-1 {color: black;background-color: white;}#sk-container-id-1 pre{padding: 0;}#sk-container-id-1 div.sk-toggleable {background-color: white;}#sk-container-id-1 label.sk-toggleable__label {cursor: pointer;display: block;width: 100%;margin-bottom: 0;padding: 0.3em;box-sizing: border-box;text-align: center;}#sk-container-id-1 label.sk-toggleable__label-arrow:before {content: \"▸\";float: left;margin-right: 0.25em;color: #696969;}#sk-container-id-1 label.sk-toggleable__label-arrow:hover:before {color: black;}#sk-container-id-1 div.sk-estimator:hover label.sk-toggleable__label-arrow:before {color: black;}#sk-container-id-1 div.sk-toggleable__content {max-height: 0;max-width: 0;overflow: hidden;text-align: left;background-color: #f0f8ff;}#sk-container-id-1 div.sk-toggleable__content pre {margin: 0.2em;color: black;border-radius: 0.25em;background-color: #f0f8ff;}#sk-container-id-1 input.sk-toggleable__control:checked~div.sk-toggleable__content {max-height: 200px;max-width: 100%;overflow: auto;}#sk-container-id-1 input.sk-toggleable__control:checked~label.sk-toggleable__label-arrow:before {content: \"▾\";}#sk-container-id-1 div.sk-estimator input.sk-toggleable__control:checked~label.sk-toggleable__label {background-color: #d4ebff;}#sk-container-id-1 div.sk-label input.sk-toggleable__control:checked~label.sk-toggleable__label {background-color: #d4ebff;}#sk-container-id-1 input.sk-hidden--visually {border: 0;clip: rect(1px 1px 1px 1px);clip: rect(1px, 1px, 1px, 1px);height: 1px;margin: -1px;overflow: hidden;padding: 0;position: absolute;width: 1px;}#sk-container-id-1 div.sk-estimator {font-family: monospace;background-color: #f0f8ff;border: 1px dotted black;border-radius: 0.25em;box-sizing: border-box;margin-bottom: 0.5em;}#sk-container-id-1 div.sk-estimator:hover {background-color: #d4ebff;}#sk-container-id-1 div.sk-parallel-item::after {content: \"\";width: 100%;border-bottom: 1px solid gray;flex-grow: 1;}#sk-container-id-1 div.sk-label:hover label.sk-toggleable__label {background-color: #d4ebff;}#sk-container-id-1 div.sk-serial::before {content: \"\";position: absolute;border-left: 1px solid gray;box-sizing: border-box;top: 0;bottom: 0;left: 50%;z-index: 0;}#sk-container-id-1 div.sk-serial {display: flex;flex-direction: column;align-items: center;background-color: white;padding-right: 0.2em;padding-left: 0.2em;position: relative;}#sk-container-id-1 div.sk-item {position: relative;z-index: 1;}#sk-container-id-1 div.sk-parallel {display: flex;align-items: stretch;justify-content: center;background-color: white;position: relative;}#sk-container-id-1 div.sk-item::before, #sk-container-id-1 div.sk-parallel-item::before {content: \"\";position: absolute;border-left: 1px solid gray;box-sizing: border-box;top: 0;bottom: 0;left: 50%;z-index: -1;}#sk-container-id-1 div.sk-parallel-item {display: flex;flex-direction: column;z-index: 1;position: relative;background-color: white;}#sk-container-id-1 div.sk-parallel-item:first-child::after {align-self: flex-end;width: 50%;}#sk-container-id-1 div.sk-parallel-item:last-child::after {align-self: flex-start;width: 50%;}#sk-container-id-1 div.sk-parallel-item:only-child::after {width: 0;}#sk-container-id-1 div.sk-dashed-wrapped {border: 1px dashed gray;margin: 0 0.4em 0.5em 0.4em;box-sizing: border-box;padding-bottom: 0.4em;background-color: white;}#sk-container-id-1 div.sk-label label {font-family: monospace;font-weight: bold;display: inline-block;line-height: 1.2em;}#sk-container-id-1 div.sk-label-container {text-align: center;}#sk-container-id-1 div.sk-container {/* jupyter's `normalize.less` sets `[hidden] { display: none; }` but bootstrap.min.css set `[hidden] { display: none !important; }` so we also need the `!important` here to be able to override the default hidden behavior on the sphinx rendered scikit-learn.org. See: https://github.com/scikit-learn/scikit-learn/issues/21755 */display: inline-block !important;position: relative;}#sk-container-id-1 div.sk-text-repr-fallback {display: none;}</style><div id=\"sk-container-id-1\" class=\"sk-top-container\"><div class=\"sk-text-repr-fallback\"><pre>PCA(whiten=True)</pre><b>In a Jupyter environment, please rerun this cell to show the HTML representation or trust the notebook. <br />On GitHub, the HTML representation is unable to render, please try loading this page with nbviewer.org.</b></div><div class=\"sk-container\" hidden><div class=\"sk-item\"><div class=\"sk-estimator sk-toggleable\"><input class=\"sk-toggleable__control sk-hidden--visually\" id=\"sk-estimator-id-1\" type=\"checkbox\" checked><label for=\"sk-estimator-id-1\" class=\"sk-toggleable__label sk-toggleable__label-arrow\">PCA</label><div class=\"sk-toggleable__content\"><pre>PCA(whiten=True)</pre></div></div></div></div></div>"
      ],
      "text/plain": [
       "PCA(whiten=True)"
      ]
     },
     "execution_count": 11,
     "metadata": {},
     "output_type": "execute_result"
    }
   ],
   "source": [
    "pca = PCA(n_components=None,whiten=True,svd_solver='auto')\n",
    "pca.fit(X_t)"
   ]
  },
  {
   "cell_type": "code",
   "execution_count": 13,
   "id": "c753b123",
   "metadata": {},
   "outputs": [
    {
     "data": {
      "text/html": [
       "<div>\n",
       "<style scoped>\n",
       "    .dataframe tbody tr th:only-of-type {\n",
       "        vertical-align: middle;\n",
       "    }\n",
       "\n",
       "    .dataframe tbody tr th {\n",
       "        vertical-align: top;\n",
       "    }\n",
       "\n",
       "    .dataframe thead th {\n",
       "        text-align: right;\n",
       "    }\n",
       "</style>\n",
       "<table border=\"1\" class=\"dataframe\">\n",
       "  <thead>\n",
       "    <tr style=\"text-align: right;\">\n",
       "      <th></th>\n",
       "      <th>explained_variance</th>\n",
       "      <th>Cumulative_explained_variance</th>\n",
       "      <th>principle_component</th>\n",
       "    </tr>\n",
       "  </thead>\n",
       "  <tbody>\n",
       "    <tr>\n",
       "      <th>0</th>\n",
       "      <td>0.251183</td>\n",
       "      <td>0.251183</td>\n",
       "      <td>1</td>\n",
       "    </tr>\n",
       "    <tr>\n",
       "      <th>1</th>\n",
       "      <td>0.115910</td>\n",
       "      <td>0.367093</td>\n",
       "      <td>2</td>\n",
       "    </tr>\n",
       "    <tr>\n",
       "      <th>2</th>\n",
       "      <td>0.104324</td>\n",
       "      <td>0.471416</td>\n",
       "      <td>3</td>\n",
       "    </tr>\n",
       "    <tr>\n",
       "      <th>3</th>\n",
       "      <td>0.052152</td>\n",
       "      <td>0.523568</td>\n",
       "      <td>4</td>\n",
       "    </tr>\n",
       "    <tr>\n",
       "      <th>4</th>\n",
       "      <td>0.033069</td>\n",
       "      <td>0.556637</td>\n",
       "      <td>5</td>\n",
       "    </tr>\n",
       "  </tbody>\n",
       "</table>\n",
       "</div>"
      ],
      "text/plain": [
       "   explained_variance  Cumulative_explained_variance  principle_component\n",
       "0            0.251183                       0.251183                    1\n",
       "1            0.115910                       0.367093                    2\n",
       "2            0.104324                       0.471416                    3\n",
       "3            0.052152                       0.523568                    4\n",
       "4            0.033069                       0.556637                    5"
      ]
     },
     "execution_count": 13,
     "metadata": {},
     "output_type": "execute_result"
    }
   ],
   "source": [
    "ex_variance_Df = pd.DataFrame()\n",
    "ex_variance_Df['explained_variance'] = pca.explained_variance_ratio_\n",
    "ex_variance_Df['Cumulative_explained_variance'] = ex_variance_Df['explained_variance'].cumsum()\n",
    "ex_variance_Df['principle_component'] = np.arange(1,len(ex_variance_Df)+1)\n",
    "ex_variance_Df.head()"
   ]
  },
  {
   "cell_type": "code",
   "execution_count": 15,
   "id": "aab32916",
   "metadata": {},
   "outputs": [],
   "source": [
    "ex_variance_Df.set_index(\"principle_component\",inplace=True)"
   ]
  },
  {
   "cell_type": "code",
   "execution_count": 20,
   "id": "381991cf",
   "metadata": {},
   "outputs": [
    {
     "data": {
      "text/plain": [
       "<Axes: xlabel='principle_component'>"
      ]
     },
     "execution_count": 20,
     "metadata": {},
     "output_type": "execute_result"
    },
    {
     "data": {
      "image/png": "[encoded data removed]",
      "text/plain": [
       "<Figure size 1500x1500 with 2 Axes>"
      ]
     },
     "metadata": {},
     "output_type": "display_data"
    }
   ],
   "source": [
    "fig,ax = plt.subplots(nrows = 2,figsize=(15,15))\n",
    "ex_variance_Df['explained_variance'].head(100).plot(kind='line',marker='o',ax = ax[0])\n",
    "ex_variance_Df['Cumulative_explained_variance'].head(100).plot(kind='line',marker='o',ax = ax[1])\n"
   ]
  },
  {
   "cell_type": "code",
   "execution_count": 21,
   "id": "9111bd6b",
   "metadata": {},
   "outputs": [],
   "source": [
    "pca_60 = PCA(n_components=60,whiten=True,svd_solver='auto')\n",
    "pca_data = pca_60.fit_transform(X_t)"
   ]
  },
  {
   "cell_type": "code",
   "execution_count": 22,
   "id": "cc81d817",
   "metadata": {},
   "outputs": [
    {
     "data": {
      "text/plain": [
       "(4552, 60)"
      ]
     },
     "execution_count": 22,
     "metadata": {},
     "output_type": "execute_result"
    }
   ],
   "source": [
    "pca_data.shape"
   ]
  },
  {
   "cell_type": "code",
   "execution_count": 24,
   "id": "9001f71a",
   "metadata": {},
   "outputs": [],
   "source": [
    "y = df['gender'].values\n",
    "np.savez('./data/data_pca_60_targets',pca_data,y)"
   ]
  },
  {
   "cell_type": "code",
   "execution_count": 25,
   "id": "5be6eba2",
   "metadata": {},
   "outputs": [],
   "source": [
    "pca_dict = {'PCA':pca_data,'Mean_Face':mean_face}"
   ]
  },
  {
   "cell_type": "code",
   "execution_count": 27,
   "id": "fca08a98",
   "metadata": {},
   "outputs": [],
   "source": [
    "pickle.dump(pca_dict,open('./haar_model/pca_dict_pickle','wb'))"
   ]
  },
  {
   "cell_type": "code",
   "execution_count": 29,
   "id": "7825fb04",
   "metadata": {},
   "outputs": [
    {
     "data": {
      "text/plain": [
       "(4552, 10000)"
      ]
     },
     "execution_count": 29,
     "metadata": {},
     "output_type": "execute_result"
    }
   ],
   "source": [
    "pca_data_inv = pca_60.inverse_transform(pca_data)\n",
    "pca_data_inv.shape"
   ]
  },
  {
   "cell_type": "code",
   "execution_count": 31,
   "id": "883826b3",
   "metadata": {},
   "outputs": [
    {
     "data": {
      "text/plain": [
       "(-0.5, 99.5, 99.5, -0.5)"
      ]
     },
     "execution_count": 31,
     "metadata": {},
     "output_type": "execute_result"
    },
    {
     "data": {
      "image/png": "[encoded data removed]",
      "text/plain": [
       "<Figure size 640x480 with 1 Axes>"
      ]
     },
     "metadata": {},
     "output_type": "display_data"
    }
   ],
   "source": [
    "eigen_image = pca_data_inv[0].reshape((100,100))\n",
    "plt.imshow(eigen_image,cmap='gray')\n",
    "plt.axis('off')\n"
   ]
  },
  {
   "cell_type": "code",
   "execution_count": null,
   "id": "58009955",
   "metadata": {},
   "outputs": [],
   "source": []
  }
 ],
 "metadata": {
  "kernelspec": {
   "display_name": "Python 3 (ipykernel)",
   "language": "python",
   "name": "python3"
  },
  "language_info": {
   "codemirror_mode": {
    "name": "ipython",
    "version": 3
   },
   "file_extension": ".py",
   "mimetype": "text/x-python",
   "name": "python",
   "nbconvert_exporter": "python",
   "pygments_lexer": "ipython3",
   "version": "3.10.4"
  }
 },
 "nbformat": 4,
 "nbformat_minor": 5
}
